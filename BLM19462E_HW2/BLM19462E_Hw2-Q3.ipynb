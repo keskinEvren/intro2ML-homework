{
 "cells": [
  {
   "cell_type": "markdown",
   "id": "a81496fc",
   "metadata": {},
   "source": [
    "## BLM19462E Intro to MachineLearning HW2\n",
    "\n",
    "### Name:\n",
    "### Student ID:"
   ]
  },
  {
   "cell_type": "code",
   "execution_count": 1,
   "id": "f939916e-7d6d-4245-98dc-fe78fdc4ec49",
   "metadata": {},
   "outputs": [],
   "source": [
    "import numpy as np\n",
    "import scipy.linalg\n",
    "\n",
    "import pandas as pd\n",
    "\n",
    "import matplotlib.pyplot as plt\n",
    "import seaborn as sns \n",
    "\n",
    "from sklearn.preprocessing import PolynomialFeatures\n",
    "from sklearn.linear_model import LinearRegression\n",
    "from sklearn.preprocessing import MinMaxScaler\n",
    "\n",
    "np.random.seed(seed=21)\n",
    "\n",
    "# ignore warnings\n",
    "import warnings\n",
    "warnings.simplefilter(action = \"ignore\", category = FutureWarning)\n",
    "warnings.simplefilter(action = \"ignore\", category = RuntimeWarning)"
   ]
  },
  {
   "cell_type": "code",
   "execution_count": null,
   "id": "bc786535-4761-41d3-ad5c-19385bdea4d3",
   "metadata": {},
   "outputs": [],
   "source": []
  },
  {
   "cell_type": "markdown",
   "id": "2b8d9a6f",
   "metadata": {},
   "source": [
    "**Q3-** In this question, you are expected to implement polynomial regression for given data, \n"
   ]
  },
  {
   "cell_type": "code",
   "execution_count": 2,
   "id": "625b1932",
   "metadata": {},
   "outputs": [
    {
     "data": {
      "text/html": [
       "<div>\n",
       "<style scoped>\n",
       "    .dataframe tbody tr th:only-of-type {\n",
       "        vertical-align: middle;\n",
       "    }\n",
       "\n",
       "    .dataframe tbody tr th {\n",
       "        vertical-align: top;\n",
       "    }\n",
       "\n",
       "    .dataframe thead th {\n",
       "        text-align: right;\n",
       "    }\n",
       "</style>\n",
       "<table border=\"1\" class=\"dataframe\">\n",
       "  <thead>\n",
       "    <tr style=\"text-align: right;\">\n",
       "      <th></th>\n",
       "      <th>x</th>\n",
       "      <th>y</th>\n",
       "    </tr>\n",
       "  </thead>\n",
       "  <tbody>\n",
       "    <tr>\n",
       "      <th>0</th>\n",
       "      <td>-5.000000</td>\n",
       "      <td>-5323.862726</td>\n",
       "    </tr>\n",
       "    <tr>\n",
       "      <th>1</th>\n",
       "      <td>-4.878788</td>\n",
       "      <td>-5144.144737</td>\n",
       "    </tr>\n",
       "    <tr>\n",
       "      <th>2</th>\n",
       "      <td>-4.757576</td>\n",
       "      <td>-4377.522115</td>\n",
       "    </tr>\n",
       "    <tr>\n",
       "      <th>3</th>\n",
       "      <td>-4.636364</td>\n",
       "      <td>-3435.943050</td>\n",
       "    </tr>\n",
       "    <tr>\n",
       "      <th>4</th>\n",
       "      <td>-4.515152</td>\n",
       "      <td>-3081.358792</td>\n",
       "    </tr>\n",
       "  </tbody>\n",
       "</table>\n",
       "</div>"
      ],
      "text/plain": [
       "          x            y\n",
       "0 -5.000000 -5323.862726\n",
       "1 -4.878788 -5144.144737\n",
       "2 -4.757576 -4377.522115\n",
       "3 -4.636364 -3435.943050\n",
       "4 -4.515152 -3081.358792"
      ]
     },
     "execution_count": 2,
     "metadata": {},
     "output_type": "execute_result"
    }
   ],
   "source": [
    "df=pd.read_csv(\"Q3Data.csv\")\n",
    "df.head()"
   ]
  },
  {
   "cell_type": "code",
   "execution_count": 3,
   "id": "716e07f8",
   "metadata": {},
   "outputs": [
    {
     "data": {
      "image/png": "[encoded data removed]",
      "text/plain": [
       "<Figure size 640x480 with 1 Axes>"
      ]
     },
     "metadata": {},
     "output_type": "display_data"
    }
   ],
   "source": [
    "plt.scatter(df['x'], df['y'], s=9)\n",
    "plt.show()"
   ]
  },
  {
   "cell_type": "markdown",
   "id": "498c7175-5cad-40c8-b6da-e44f2450258e",
   "metadata": {},
   "source": [
    "- **a)** Find the best fitting line with order ($k$) using the method ```LinearRegression``` from the package ```scikit-learn```.\n"
   ]
  },
  {
   "cell_type": "code",
   "execution_count": null,
   "id": "c5a036c0-48e3-44cb-804d-08efe0723508",
   "metadata": {},
   "outputs": [],
   "source": []
  },
  {
   "cell_type": "markdown",
   "id": "fbb0c47f-d383-4676-90cc-7ed8590a58cd",
   "metadata": {},
   "source": [
    "- **b)** Show bias-variance trade-off (plot each case) and explain in detail."
   ]
  },
  {
   "cell_type": "code",
   "execution_count": null,
   "id": "cc87c87c-89e2-4acd-80ad-8567305f1e8e",
   "metadata": {},
   "outputs": [],
   "source": []
  },
  {
   "cell_type": "markdown",
   "id": "e598ee9b-3006-4cb8-88ce-fba55e8a2a8e",
   "metadata": {},
   "source": [
    "- **c)** Calculate predicted output for obtained order $k$ using Normal equation:\n",
    "\n",
    "    - $\\theta ={{\\left( {{X}^{T}}X \\right)}^{-1}}{{X}^{T}}y$\n",
    " \n",
    "and compare the results with previous results.\n",
    "\n",
    "- **Hint:** Use pseudo-inverse of a matrix"
   ]
  },
  {
   "cell_type": "code",
   "execution_count": null,
   "id": "fd854474-0462-47f6-8622-b7ee1244b23b",
   "metadata": {},
   "outputs": [],
   "source": []
  }
 ],
 "metadata": {
  "kernelspec": {
   "display_name": "Python 3 (ipykernel)",
   "language": "python",
   "name": "python3"
  },
  "language_info": {
   "codemirror_mode": {
    "name": "ipython",
    "version": 3
   },
   "file_extension": ".py",
   "mimetype": "text/x-python",
   "name": "python",
   "nbconvert_exporter": "python",
   "pygments_lexer": "ipython3",
   "version": "3.9.18"
  }
 },
 "nbformat": 4,
 "nbformat_minor": 5
}
