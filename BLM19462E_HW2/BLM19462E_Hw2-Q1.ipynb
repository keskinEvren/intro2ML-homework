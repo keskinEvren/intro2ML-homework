{
  "metadata": {
    "kernelspec": {
      "name": "python",
      "display_name": "Python (Pyodide)",
      "language": "python"
    },
    "language_info": {
      "codemirror_mode": {
        "name": "python",
        "version": 3
      },
      "file_extension": ".py",
      "mimetype": "text/x-python",
      "name": "python",
      "nbconvert_exporter": "python",
      "pygments_lexer": "ipython3",
      "version": "3.8"
    }
  },
  "nbformat_minor": 5,
  "nbformat": 4,
  "cells": [
    {
      "id": "a81496fc",
      "cell_type": "markdown",
      "source": "## BLM19462E Intro to MachineLearning HW2\n\n### Name:Evren Keskin\n### Student ID:1621221030",
      "metadata": {}
    },
    {
      "id": "ad70b5f9-ba8a-43f0-b393-696b31c41ea9",
      "cell_type": "markdown",
      "source": "**Q1-** Suppose that $X=(x_1, x_2,...,x_n )$ are IID  ((independently and identically distributed) ) observations from a Poisson distribution with unknown parameter $\\lambda$. \r\n \n$$ p(X; \\lambda) = \\frac{e^{-\\lambda} \\lambda ^X}{X!} $$\nFind the parameters $\\theta$ of  Poisson distribution using Maximum Likelihood Estimation (MLE). Write each step by hand in detail.  Use lecture's notations.\n",
      "metadata": {}
    },
    {
      "id": "0a92725f-15d1-4ce4-b014-8c4517e3de62",
      "cell_type": "code",
      "source": "",
      "metadata": {},
      "outputs": [],
      "execution_count": null
    },
    {
      "id": "0570de78-7eb8-4683-a6f1-51fb09e313ce",
      "cell_type": "code",
      "source": "",
      "metadata": {
        "trusted": true
      },
      "outputs": [],
      "execution_count": null
    }
  ]
}