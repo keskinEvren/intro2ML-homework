{
 "cells": [
  {
   "cell_type": "markdown",
   "id": "a81496fc",
   "metadata": {},
   "source": [
    "## BLM19462E Intro to MachineLearning HW2\n",
    "\n",
    "### Name:\n",
    "### Student ID:"
   ]
  },
  {
   "cell_type": "markdown",
   "id": "ad70b5f9-ba8a-43f0-b393-696b31c41ea9",
   "metadata": {},
   "source": [
    "**Q1-** Suppose that $X=(x_1, x_2,...,x_n )$ are IID  ((independently and identically distributed) ) observations from a Poisson distribution with unknown parameter $\\lambda$. \r\n",
    " \n",
    "$$ p(X; \\lambda) = \\frac{e^{-\\lambda} \\lambda ^X}{X!} $$\n",
    "Find the parameters $\\theta$ of  Poisson distribution using Maximum Likelihood Estimation (MLE). Write each step by hand in detail.  Use lecture's notations.\n"
   ]
  },
  {
   "cell_type": "code",
   "execution_count": null,
   "id": "0a92725f-15d1-4ce4-b014-8c4517e3de62",
   "metadata": {},
   "outputs": [],
   "source": []
  }
 ],
 "metadata": {
  "kernelspec": {
   "display_name": "Python 3 (ipykernel)",
   "language": "python",
   "name": "python3"
  },
  "language_info": {
   "codemirror_mode": {
    "name": "ipython",
    "version": 3
   },
   "file_extension": ".py",
   "mimetype": "text/x-python",
   "name": "python",
   "nbconvert_exporter": "python",
   "pygments_lexer": "ipython3",
   "version": "3.9.18"
  }
 },
 "nbformat": 4,
 "nbformat_minor": 5
}
