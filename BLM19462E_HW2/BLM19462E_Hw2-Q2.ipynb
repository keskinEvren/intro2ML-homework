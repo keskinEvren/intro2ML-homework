{
 "cells": [
  {
   "cell_type": "markdown",
   "id": "a81496fc",
   "metadata": {},
   "source": [
    "## BLM19462E Intro to MachineLearning HW2\n",
    "\n",
    "### Name:\n",
    "### Student ID:"
   ]
  },
  {
   "cell_type": "code",
   "execution_count": 1,
   "id": "f939916e-7d6d-4245-98dc-fe78fdc4ec49",
   "metadata": {},
   "outputs": [],
   "source": [
    "import numpy as np\n",
    "import scipy.linalg\n",
    "\n",
    "import pandas as pd\n",
    "\n",
    "import matplotlib.pyplot as plt\n",
    "import seaborn as sns \n",
    "\n",
    "from sklearn.preprocessing import PolynomialFeatures\n",
    "from sklearn.linear_model import LinearRegression\n",
    "from sklearn.preprocessing import MinMaxScaler\n",
    "\n",
    "np.random.seed(seed=21)\n",
    "\n",
    "# ignore warnings\n",
    "import warnings\n",
    "warnings.simplefilter(action = \"ignore\", category = FutureWarning)\n",
    "warnings.simplefilter(action = \"ignore\", category = RuntimeWarning)"
   ]
  },
  {
   "cell_type": "code",
   "execution_count": null,
   "id": "3f3f3527-5beb-473b-bac5-f8cef3424cee",
   "metadata": {},
   "outputs": [],
   "source": []
  },
  {
   "cell_type": "markdown",
   "id": "2d0d0970-cbc9-4932-901f-faaef02048ac",
   "metadata": {},
   "source": [
    "**Q2-** The file \"Q2Data1.txt\" contains the dataset for linear regression problem. The first column is the year of experience and the second column is the salary of an employee. A negative value for debt amount.\n",
    "otss."
   ]
  },
  {
   "cell_type": "code",
   "execution_count": 2,
   "id": "7864eaec-76de-4e1a-8a6a-296a414b4b57",
   "metadata": {},
   "outputs": [
    {
     "data": {
      "text/html": [
       "<div>\n",
       "<style scoped>\n",
       "    .dataframe tbody tr th:only-of-type {\n",
       "        vertical-align: middle;\n",
       "    }\n",
       "\n",
       "    .dataframe tbody tr th {\n",
       "        vertical-align: top;\n",
       "    }\n",
       "\n",
       "    .dataframe thead th {\n",
       "        text-align: right;\n",
       "    }\n",
       "</style>\n",
       "<table border=\"1\" class=\"dataframe\">\n",
       "  <thead>\n",
       "    <tr style=\"text-align: right;\">\n",
       "      <th></th>\n",
       "      <th>Experience</th>\n",
       "      <th>Salary</th>\n",
       "    </tr>\n",
       "  </thead>\n",
       "  <tbody>\n",
       "    <tr>\n",
       "      <th>0</th>\n",
       "      <td>6.1101</td>\n",
       "      <td>17.5920</td>\n",
       "    </tr>\n",
       "    <tr>\n",
       "      <th>1</th>\n",
       "      <td>5.5277</td>\n",
       "      <td>9.1302</td>\n",
       "    </tr>\n",
       "    <tr>\n",
       "      <th>2</th>\n",
       "      <td>8.5186</td>\n",
       "      <td>13.6620</td>\n",
       "    </tr>\n",
       "    <tr>\n",
       "      <th>3</th>\n",
       "      <td>7.0032</td>\n",
       "      <td>11.8540</td>\n",
       "    </tr>\n",
       "    <tr>\n",
       "      <th>4</th>\n",
       "      <td>5.8598</td>\n",
       "      <td>6.8233</td>\n",
       "    </tr>\n",
       "  </tbody>\n",
       "</table>\n",
       "</div>"
      ],
      "text/plain": [
       "   Experience   Salary\n",
       "0      6.1101  17.5920\n",
       "1      5.5277   9.1302\n",
       "2      8.5186  13.6620\n",
       "3      7.0032  11.8540\n",
       "4      5.8598   6.8233"
      ]
     },
     "execution_count": 2,
     "metadata": {},
     "output_type": "execute_result"
    }
   ],
   "source": [
    "# start by loading the data\n",
    "data = pd.read_csv('Q2Data1.txt', header=None, names=['Experience', 'Salary'])\n",
    "\n",
    "# initialize some useful variables\n",
    "m = len(data) # the number of training examples\n",
    "X = np.append(np.ones((m, 1)), np.array(data[\"Experience\"]).reshape((m,1)), axis=1) # Add x0, a vector of 1's, to X.\n",
    "y = np.array(data[\"Salary\"]).reshape(m, 1)\n",
    "\n",
    "data.head()"
   ]
  },
  {
   "cell_type": "markdown",
   "id": "01dacc50-52de-4099-adcd-1c5027fb0514",
   "metadata": {},
   "source": [
    "Before starting on any task, it is often useful to understand the data by visualizing it. For this dataset, you can use a scatter plot to visualize the data."
   ]
  },
  {
   "cell_type": "code",
   "execution_count": 3,
   "id": "02baa1ca-bcec-459a-8d1a-252819477ebf",
   "metadata": {},
   "outputs": [
    {
     "data": {
      "text/plain": [
       "Text(0, 0.5, 'Salary $1,000')"
      ]
     },
     "execution_count": 3,
     "metadata": {},
     "output_type": "execute_result"
    },
    {
     "data": {
      "image/png": "[encoded data removed]",
      "text/plain": [
       "<Figure size 640x480 with 1 Axes>"
      ]
     },
     "metadata": {},
     "output_type": "display_data"
    }
   ],
   "source": [
    "plt.plot(data['Experience'], data['Salary'], 'bx')\n",
    "plt.xlabel('Experience')\n",
    "plt.ylabel('Salary $1,000')"
   ]
  },
  {
   "cell_type": "markdown",
   "id": "6a9f677e-3666-49fb-a5ed-425e2212f8ca",
   "metadata": {},
   "source": [
    "Our hypothesis function has the general form:\n",
    "\n",
    "$y= h_\\theta(x)= \\theta_0 + \\theta_1x$\n",
    "\n",
    "We give to $h_\\theta(x)$ values for $\\theta_0$ and $\\theta_1$ to get our estimated output $y$. \n",
    "\n",
    "##### Cost function\n",
    "The cost functions yields \"how far off\" our hypotheses $h_\\theta$ is.  Formally, the cost function has the following definition:\n",
    "\n",
    "$J(\\theta) = \\frac{1}{2n} \\displaystyle\\sum_{i = 0}^{m}(h_θ(x^{(i)}) - y^{(i)})^2$\n",
    "\n",
    "##### Vectorization\n",
    "Vectorizations is the act of replacing the loops in a computer program with matrix operations. If you have a good linear algebra library (like numpy), the library will optimize the code automatically for the computer the code runs on. Mathematically, the 'regular' function should mean the same as the vectorized function.\n",
    "\n",
    "Gradient descent vectorized:\n",
    "$\\theta = \\frac{1}{2n}(X\\theta - \\vec{y})^T(X\\theta-\\vec{y})$\n",
    "\n",
    "\n",
    " - **a)** Implement a vectorized implementation of the cost function."
   ]
  },
  {
   "cell_type": "code",
   "execution_count": 4,
   "id": "ddde8575-83ff-4261-b947-2a943e75f7ab",
   "metadata": {},
   "outputs": [],
   "source": [
    "def costFunction(X, y, theta):\n",
    "    \"\"\" Computes the cost of using theta as the parameter for linear ression to fit the data in X and y. \"\"\"\n",
    "    \n",
    "    return 0"
   ]
  },
  {
   "cell_type": "markdown",
   "id": "a4fe694e-efe8-4bd1-9940-3c4e8c085d12",
   "metadata": {},
   "source": [
    "**Answer:** \n",
    "With $\\theta = \\begin{bmatrix}0 & 0\\end{bmatrix}$, \n",
    "\n",
    "$J(\\theta)$ should return 32.07"
   ]
  },
  {
   "cell_type": "code",
   "execution_count": 5,
   "id": "3ba8dfba-3878-4f29-b043-6f36f9bf425b",
   "metadata": {},
   "outputs": [
    {
     "name": "stdout",
     "output_type": "stream",
     "text": [
      "0\n"
     ]
    }
   ],
   "source": [
    "initialTheta = np.zeros((2,1))\n",
    "print(costFunction(X, y, initialTheta))"
   ]
  },
  {
   "cell_type": "markdown",
   "id": "41bfea5c-f389-44be-8c30-8f1e2f24193d",
   "metadata": {},
   "source": [
    "##### Gradient descent\n",
    "We want are hypothesis $h_\\theta(x)$ to function as good as possibly. Therefore, we want to minimalize the cost function $J(\\theta)$. Gradient descent is an algorithm used to do that. \n",
    "\n",
    "The formal definition of gradient descent:\n",
    "\n",
    "$repeat \\ \\{ \\\\ \\enspace \\theta_j := \\theta_j - \\alpha \\frac{1}{m}\\displaystyle\\sum_{i = 1}^{m}(h_\\theta(x^{(i)})-y^{(i)})x_j^{(i)}\\\\\\}$\n",
    "\n",
    "\n",
    " - **b)** Implement the gradient descent algorithm in Python."
   ]
  },
  {
   "cell_type": "code",
   "execution_count": 6,
   "id": "704481ce-7360-4379-a157-355681521581",
   "metadata": {},
   "outputs": [],
   "source": [
    "def gradientDescent(X, y, theta, alpha, iterations):\n",
    "    \"\"\" Performs gradient descent to learn theta. \n",
    "    Returns the found value for theta and the history of the cost function.\n",
    "    \"\"\"\n",
    "    J_history = []\n",
    "    return theta, J_history"
   ]
  },
  {
   "cell_type": "markdown",
   "id": "e92c54b2-d0da-4cd5-9d56-5674c8a63438",
   "metadata": {},
   "source": [
    "**Answer:** \n",
    "Gradient descent should have found approximately the following: $\\theta = \\begin{bmatrix}-3.6303\\\\1.1664\\end{bmatrix}$"
   ]
  },
  {
   "cell_type": "code",
   "execution_count": 7,
   "id": "02beb574-db6c-437e-b815-778361d710e3",
   "metadata": {},
   "outputs": [
    {
     "data": {
      "text/plain": [
       "array([[0.],\n",
       "       [0.]])"
      ]
     },
     "execution_count": 7,
     "metadata": {},
     "output_type": "execute_result"
    }
   ],
   "source": [
    "# You can change different values for these variables\n",
    "alpha = 0.01\n",
    "iterations = 1500\n",
    "\n",
    "theta, J_history = gradientDescent(X, y, initialTheta, alpha, iterations)\n",
    "theta"
   ]
  },
  {
   "cell_type": "markdown",
   "id": "4f28af74-2269-4369-ac8a-8db3f5c5d67b",
   "metadata": {},
   "source": [
    " - **c)** Using the results, plotting the regularization line"
   ]
  },
  {
   "cell_type": "code",
   "execution_count": 8,
   "id": "afcd0142-f96a-45ea-aeef-a401b6e88896",
   "metadata": {},
   "outputs": [
    {
     "data": {
      "text/plain": [
       "[<matplotlib.lines.Line2D at 0x1b56987cc40>]"
      ]
     },
     "execution_count": 8,
     "metadata": {},
     "output_type": "execute_result"
    },
    {
     "data": {
      "image/png": "[encoded data removed]",
      "text/plain": [
       "<Figure size 640x480 with 1 Axes>"
      ]
     },
     "metadata": {},
     "output_type": "display_data"
    }
   ],
   "source": [
    "plt.plot(X[:,1], y, 'bx', label='Training data')\n",
    "plt.plot(X[:,1], X.dot(theta), 'm-', label='Linear regression')"
   ]
  },
  {
   "cell_type": "code",
   "execution_count": 9,
   "id": "16ed5bbe-0565-4224-bacd-afd7baf2fcd0",
   "metadata": {},
   "outputs": [
    {
     "data": {
      "text/plain": [
       "[<matplotlib.lines.Line2D at 0x1b5699034c0>]"
      ]
     },
     "execution_count": 9,
     "metadata": {},
     "output_type": "execute_result"
    },
    {
     "data": {
      "image/png": "[encoded data removed]",
      "text/plain": [
       "<Figure size 640x480 with 1 Axes>"
      ]
     },
     "metadata": {},
     "output_type": "display_data"
    }
   ],
   "source": [
    "plt.plot(J_history)"
   ]
  },
  {
   "cell_type": "markdown",
   "id": "dadc106f-3d59-4786-90e7-4eef61bc3907",
   "metadata": {},
   "source": [
    " - **d)** Making a prediction using the model\n",
    "\n",
    "The model can be used by calculating the dot product of the input and $\\theta$."
   ]
  },
  {
   "cell_type": "code",
   "execution_count": null,
   "id": "634408e2-d41a-4ac1-990a-86bb7a102f0e",
   "metadata": {},
   "outputs": [],
   "source": []
  },
  {
   "cell_type": "markdown",
   "id": "4fdde919-256e-4aa7-afd2-decf726c701e",
   "metadata": {},
   "source": [
    " - **e)** Run your \"gradientDescent\" function using a different constant learning rates and plot cost functions for each learning rates values. \n",
    "\n"
   ]
  },
  {
   "cell_type": "code",
   "execution_count": null,
   "id": "985657c2-4f79-4209-a7a3-94b0904338b0",
   "metadata": {},
   "outputs": [],
   "source": []
  }
 ],
 "metadata": {
  "kernelspec": {
   "display_name": "Python 3 (ipykernel)",
   "language": "python",
   "name": "python3"
  },
  "language_info": {
   "codemirror_mode": {
    "name": "ipython",
    "version": 3
   },
   "file_extension": ".py",
   "mimetype": "text/x-python",
   "name": "python",
   "nbconvert_exporter": "python",
   "pygments_lexer": "ipython3",
   "version": "3.9.18"
  }
 },
 "nbformat": 4,
 "nbformat_minor": 5
}
